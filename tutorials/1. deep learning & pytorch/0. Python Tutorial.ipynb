{
  "nbformat": 4,
  "nbformat_minor": 0,
  "metadata": {
    "kernelspec": {
      "display_name": "Python 3",
      "language": "python",
      "name": "python3"
    },
    "language_info": {
      "codemirror_mode": {
        "name": "ipython",
        "version": 3
      },
      "file_extension": ".py",
      "mimetype": "text/x-python",
      "name": "python",
      "nbconvert_exporter": "python",
      "pygments_lexer": "ipython3",
      "version": "3.6.2"
    },
    "colab": {
      "name": "0_Python_Tutorial.ipynb",
      "provenance": [],
      "collapsed_sections": []
    }
  },
  "cells": [
    {
      "cell_type": "markdown",
      "metadata": {
        "id": "JYN8Elqh7Lff"
      },
      "source": [
        "# Python Tutorial\n",
        "\n",
        "- Hello World!\n",
        "- Variables and Types\n",
        "- Arithmetic Operations\n",
        "- List\n",
        "- Dictionary\n",
        "- Loop\n",
        "- Condition\n",
        "- Function\n",
        "- Class and Objects\n",
        "\n",
        "## 1. Hello World!"
      ]
    },
    {
      "cell_type": "code",
      "metadata": {
        "colab": {
          "base_uri": "https://localhost:8080/"
        },
        "id": "BnKZhFHl7Lfn",
        "outputId": "41b321dd-1291-47ab-9eaa-78a705e322a2"
      },
      "source": [
        "print(\"Hello World!\")"
      ],
      "execution_count": 13,
      "outputs": [
        {
          "output_type": "stream",
          "text": [
            "Hello World!\n"
          ],
          "name": "stdout"
        }
      ]
    },
    {
      "cell_type": "markdown",
      "metadata": {
        "id": "n1QYFYVW7Lfp"
      },
      "source": [
        "## 2. Variables and Types"
      ]
    },
    {
      "cell_type": "code",
      "metadata": {
        "colab": {
          "base_uri": "https://localhost:8080/"
        },
        "id": "oE8yu8ds7Lfq",
        "outputId": "64929c2d-6494-4efb-90c3-def8d90be72c"
      },
      "source": [
        "a = 2\n",
        "print(a,type(a),end=\"\\n\\n\")\n",
        "\n",
        "b = 2.0\n",
        "print(b,type(b),end=\"\\n\\n\")\n",
        "\n",
        "c = \"Pytorch\"\n",
        "print(c,type(c),end=\"\\n\\n\")\n",
        "\n",
        "d = a+b\n",
        "print(d,type(d),end=\"\\n\\n\")\n",
        "\n",
        "e = str(a)+\" \"+c\n",
        "print(e,type(e),end=\"\\n\\n\")"
      ],
      "execution_count": 2,
      "outputs": [
        {
          "output_type": "stream",
          "text": [
            "2 <class 'int'>\n",
            "\n",
            "2.0 <class 'float'>\n",
            "\n",
            "Pytorch <class 'str'>\n",
            "\n",
            "4.0 <class 'float'>\n",
            "\n",
            "2 Pytorch <class 'str'>\n",
            "\n"
          ],
          "name": "stdout"
        }
      ]
    },
    {
      "cell_type": "markdown",
      "metadata": {
        "id": "OjtvlDfX7Lfq"
      },
      "source": [
        "## 3. Arithmetic Operations"
      ]
    },
    {
      "cell_type": "code",
      "metadata": {
        "colab": {
          "base_uri": "https://localhost:8080/"
        },
        "id": "DcnmDE6D7Lfr",
        "outputId": "92d3dc31-2b39-46c9-91c0-0d5bfd3f9252"
      },
      "source": [
        "a=1\n",
        "b=2\n",
        "c=3\n",
        "\n",
        "print(a+b)\n",
        "print(a-b)\n",
        "print(b*c)\n",
        "print(b/c)\n",
        "print(c//b)\n",
        "print(b**c)"
      ],
      "execution_count": 3,
      "outputs": [
        {
          "output_type": "stream",
          "text": [
            "3\n",
            "-1\n",
            "6\n",
            "0.6666666666666666\n",
            "1\n",
            "8\n"
          ],
          "name": "stdout"
        }
      ]
    },
    {
      "cell_type": "markdown",
      "metadata": {
        "id": "bi4nh34j7Lfr"
      },
      "source": [
        "## 4. List"
      ]
    },
    {
      "cell_type": "code",
      "metadata": {
        "colab": {
          "base_uri": "https://localhost:8080/"
        },
        "id": "5taBuLEL7Lfr",
        "outputId": "23c431dd-36f0-411d-a234-c38106fe46c9"
      },
      "source": [
        "list_1 = [1,2,3]\n",
        "print(list_1)\n",
        "\n",
        "list_1.append(4)\n",
        "print(list_1)\n",
        "\n",
        "list_1.append(\"abc\")\n",
        "print(list_1)\n",
        "\n",
        "# index\n",
        "print(list_1[:-1])\n",
        "\n",
        "del list_1[-1]\n",
        "print(list_1)\n",
        "\n",
        "list_1.pop()\n",
        "print(list_1)"
      ],
      "execution_count": 4,
      "outputs": [
        {
          "output_type": "stream",
          "text": [
            "[1, 2, 3]\n",
            "[1, 2, 3, 4]\n",
            "[1, 2, 3, 4, 'abc']\n",
            "[1, 2, 3, 4]\n",
            "[1, 2, 3, 4]\n",
            "[1, 2, 3]\n"
          ],
          "name": "stdout"
        }
      ]
    },
    {
      "cell_type": "markdown",
      "metadata": {
        "id": "xVeXS2Vx7Lfs"
      },
      "source": [
        "## 5. Dictionary"
      ]
    },
    {
      "cell_type": "code",
      "metadata": {
        "colab": {
          "base_uri": "https://localhost:8080/"
        },
        "id": "YAuir6tr7Lfs",
        "outputId": "7eb9b0c8-656b-456d-a502-8f858ba4b7fb"
      },
      "source": [
        "dict_1 = {\n",
        "    \"python\": 0,\n",
        "    \"java\":1,\n",
        "    \"c++\":2,\n",
        "    \"ruby\":3,\n",
        "    \"html\":4,\n",
        "    \"key\":\"value\",\n",
        "}\n",
        "\n",
        "print(dict_1)\n",
        "print(dict_1[\"c++\"])\n",
        "\n",
        "del dict_1[\"key\"]\n",
        "print(dict_1)\n",
        "\n",
        "dict_1[\"pytorch\"]=5\n",
        "print(dict_1)"
      ],
      "execution_count": 5,
      "outputs": [
        {
          "output_type": "stream",
          "text": [
            "{'python': 0, 'java': 1, 'c++': 2, 'ruby': 3, 'html': 4, 'key': 'value'}\n",
            "2\n",
            "{'python': 0, 'java': 1, 'c++': 2, 'ruby': 3, 'html': 4}\n",
            "{'python': 0, 'java': 1, 'c++': 2, 'ruby': 3, 'html': 4, 'pytorch': 5}\n"
          ],
          "name": "stdout"
        }
      ]
    },
    {
      "cell_type": "markdown",
      "metadata": {
        "id": "5O965VCb7Lfs"
      },
      "source": [
        "## 6. Loop"
      ]
    },
    {
      "cell_type": "code",
      "metadata": {
        "colab": {
          "base_uri": "https://localhost:8080/"
        },
        "id": "y0ch7QAf7Lft",
        "outputId": "d231a574-5f7a-4f0b-8321-eae3c26ad982"
      },
      "source": [
        "for i in range(5):\n",
        "    print(i)\n",
        "\n",
        "print(\"\\n\")\n",
        "for i in range(0,-5,-1):\n",
        "    print(i)"
      ],
      "execution_count": 6,
      "outputs": [
        {
          "output_type": "stream",
          "text": [
            "0\n",
            "1\n",
            "2\n",
            "3\n",
            "4\n",
            "\n",
            "\n",
            "0\n",
            "-1\n",
            "-2\n",
            "-3\n",
            "-4\n"
          ],
          "name": "stdout"
        }
      ]
    },
    {
      "cell_type": "code",
      "metadata": {
        "colab": {
          "base_uri": "https://localhost:8080/"
        },
        "id": "hCvH1q2I7Lft",
        "outputId": "71db8b20-7f39-419c-8dea-a01b1853e3a9"
      },
      "source": [
        "print(list_1)\n",
        "for i in list_1:\n",
        "    print(i)\n",
        "\n",
        "print(\"\\n\")\n",
        "print(dict_1)\n",
        "for key in dict_1:\n",
        "    print(key,dict_1[key])"
      ],
      "execution_count": 7,
      "outputs": [
        {
          "output_type": "stream",
          "text": [
            "[1, 2, 3]\n",
            "1\n",
            "2\n",
            "3\n",
            "\n",
            "\n",
            "{'python': 0, 'java': 1, 'c++': 2, 'ruby': 3, 'html': 4, 'pytorch': 5}\n",
            "python 0\n",
            "java 1\n",
            "c++ 2\n",
            "ruby 3\n",
            "html 4\n",
            "pytorch 5\n"
          ],
          "name": "stdout"
        }
      ]
    },
    {
      "cell_type": "code",
      "metadata": {
        "colab": {
          "base_uri": "https://localhost:8080/"
        },
        "id": "7cnCYHLu7Lft",
        "outputId": "b6000270-092f-46ba-bd22-5343331553c3"
      },
      "source": [
        "a=0\n",
        "while(a<10):\n",
        "    print(a)\n",
        "    a+=1"
      ],
      "execution_count": 8,
      "outputs": [
        {
          "output_type": "stream",
          "text": [
            "0\n",
            "1\n",
            "2\n",
            "3\n",
            "4\n",
            "5\n",
            "6\n",
            "7\n",
            "8\n",
            "9\n"
          ],
          "name": "stdout"
        }
      ]
    },
    {
      "cell_type": "markdown",
      "metadata": {
        "id": "g1w3l0wN7Lfu"
      },
      "source": [
        "## 7. Condition"
      ]
    },
    {
      "cell_type": "code",
      "metadata": {
        "colab": {
          "base_uri": "https://localhost:8080/"
        },
        "id": "ygYMM7VK7Lfu",
        "outputId": "6671670f-4721-4c45-c04c-135f302f1648"
      },
      "source": [
        "print(2==2)\n",
        "print(2==3)\n",
        "print(2!=2)\n",
        "print(2!=3)"
      ],
      "execution_count": 9,
      "outputs": [
        {
          "output_type": "stream",
          "text": [
            "True\n",
            "False\n",
            "False\n",
            "True\n"
          ],
          "name": "stdout"
        }
      ]
    },
    {
      "cell_type": "code",
      "metadata": {
        "colab": {
          "base_uri": "https://localhost:8080/"
        },
        "id": "ghFH7etf7Lfu",
        "outputId": "a3ebdfb9-a07c-4d9f-b6ee-8b0d11516c96"
      },
      "source": [
        "print(dict_1)\n",
        "for key in dict_1:\n",
        "    if key==\"ruby\":\n",
        "        print(dict_1[key])\n",
        "    else:\n",
        "        print(\"not ruby\")"
      ],
      "execution_count": 10,
      "outputs": [
        {
          "output_type": "stream",
          "text": [
            "{'python': 0, 'java': 1, 'c++': 2, 'ruby': 3, 'html': 4, 'pytorch': 5}\n",
            "not ruby\n",
            "not ruby\n",
            "not ruby\n",
            "3\n",
            "not ruby\n",
            "not ruby\n"
          ],
          "name": "stdout"
        }
      ]
    },
    {
      "cell_type": "markdown",
      "metadata": {
        "id": "S2VckcrM7Lfu"
      },
      "source": [
        "## 8. Function"
      ]
    },
    {
      "cell_type": "code",
      "metadata": {
        "colab": {
          "base_uri": "https://localhost:8080/"
        },
        "id": "XKzmdiHs7Lfv",
        "outputId": "5d6dedf7-9111-4ab1-cf50-2f43768f6048"
      },
      "source": [
        "def factorial(num):\n",
        "    result = 1\n",
        "    for i in range(1,num+1):\n",
        "        result = result*i\n",
        "    return result\n",
        "\n",
        "print(factorial(5))"
      ],
      "execution_count": 11,
      "outputs": [
        {
          "output_type": "stream",
          "text": [
            "120\n"
          ],
          "name": "stdout"
        }
      ]
    },
    {
      "cell_type": "markdown",
      "metadata": {
        "id": "CA-vsHbA7Lfv"
      },
      "source": [
        "## 9. Class and Objects"
      ]
    },
    {
      "cell_type": "code",
      "metadata": {
        "colab": {
          "base_uri": "https://localhost:8080/"
        },
        "id": "8-5gcpKZ7Lfv",
        "outputId": "12fc33e2-53a1-42a7-c84a-07656cf52cd0"
      },
      "source": [
        "class Jedi(object):\n",
        "    def __init__(self,name,droid):\n",
        "        self.name = name\n",
        "        self.droid = droid\n",
        "        self.exp = 0\n",
        "        \n",
        "    def train(self):\n",
        "        self.exp += 10\n",
        "\n",
        "anakin = Jedi(\"Anakin Skywalker\",\"R2D2\")\n",
        "anakin.train()\n",
        "\n",
        "print(anakin.name)\n",
        "print(anakin.droid)\n",
        "print(anakin.exp)"
      ],
      "execution_count": 12,
      "outputs": [
        {
          "output_type": "stream",
          "text": [
            "Anakin Skywalker\n",
            "R2D2\n",
            "10\n"
          ],
          "name": "stdout"
        }
      ]
    }
  ]
}