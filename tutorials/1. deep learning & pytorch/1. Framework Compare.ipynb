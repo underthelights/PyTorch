{
  "nbformat": 4,
  "nbformat_minor": 0,
  "metadata": {
    "kernelspec": {
      "display_name": "Python 3",
      "language": "python",
      "name": "python3"
    },
    "language_info": {
      "codemirror_mode": {
        "name": "ipython",
        "version": 3
      },
      "file_extension": ".py",
      "mimetype": "text/x-python",
      "name": "python",
      "nbconvert_exporter": "python",
      "pygments_lexer": "ipython3",
      "version": "3.6.2"
    },
    "colab": {
      "name": "1_Framework_Comparison.ipynb",
      "provenance": []
    }
  },
  "cells": [
    {
      "cell_type": "markdown",
      "metadata": {
        "id": "wPrMJ9Kf9m4U"
      },
      "source": [
        "# Framework Comparison\n",
        "\n",
        "- Numpy vs Tensorflow (v1.0) vs PyTorch\n",
        "- output = x * y + z\n"
      ]
    },
    {
      "cell_type": "code",
      "metadata": {
        "id": "1HuGzrD49m4b",
        "outputId": "7d210ce8-3f8c-4303-a43d-cf6148bef4d4"
      },
      "source": [
        "import numpy as np\n",
        "from datetime import datetime\n",
        "start = datetime.now()\n",
        "\n",
        "np.random.seed(0)\n",
        "\n",
        "N,D = 3,4\n",
        "\n",
        "x = np.random.randn(N,D)\n",
        "y = np.random.randn(N,D)\n",
        "z = np.random.randn(N,D)\n",
        "\n",
        "a = x * y\n",
        "b = a + z\n",
        "c = np.sum(b)\n",
        "\n",
        "grad_c = 1.0\n",
        "grad_b = grad_c * np.ones((N,D))\n",
        "grad_a = grad_b.copy()\n",
        "grad_z = grad_b.copy()\n",
        "grad_y = grad_a * y\n",
        "grad_x = grad_a * x\n",
        "\n",
        "print(grad_x)\n",
        "print(\"\\n\")\n",
        "print(grad_y)\n",
        "print(\"\\n\")\n",
        "print(grad_z)\n",
        "print(\"\\n\")\n",
        "print(datetime.now()-start)"
      ],
      "execution_count": null,
      "outputs": [
        {
          "output_type": "stream",
          "text": [
            "[[ 1.76405235  0.40015721  0.97873798  2.2408932 ]\n",
            " [ 1.86755799 -0.97727788  0.95008842 -0.15135721]\n",
            " [-0.10321885  0.4105985   0.14404357  1.45427351]]\n",
            "[[ 0.76103773  0.12167502  0.44386323  0.33367433]\n",
            " [ 1.49407907 -0.20515826  0.3130677  -0.85409574]\n",
            " [-2.55298982  0.6536186   0.8644362  -0.74216502]]\n",
            "[[ 1.  1.  1.  1.]\n",
            " [ 1.  1.  1.  1.]\n",
            " [ 1.  1.  1.  1.]]\n",
            "0:00:00.004966\n"
          ],
          "name": "stdout"
        }
      ]
    },
    {
      "cell_type": "code",
      "metadata": {
        "id": "_acabKTg9m4d",
        "outputId": "dba76134-90ef-4951-d434-5a4039864ac9"
      },
      "source": [
        "import tensorflow as tf\n",
        "import numpy as np\n",
        "from datetime import datetime\n",
        "start = datetime.now()\n",
        "\n",
        "with tf.device('/gpu:0'):\n",
        "    x = tf.placeholder(tf.float32)\n",
        "    y = tf.placeholder(tf.float32)\n",
        "    z = tf.placeholder(tf.float32)\n",
        "\n",
        "    a = x * y\n",
        "    b = a + z\n",
        "    c = tf.reduce_sum(b)\n",
        "    \n",
        "grad_x, grad_y, grad_z = tf.gradients(c,[x,y,z])\n",
        "\n",
        "with tf.Session() as sess:\n",
        "    values = {\n",
        "        x: np.random.randn(N,D),\n",
        "        y: np.random.randn(N,D),\n",
        "        z: np.random.randn(N,D)           \n",
        "    }\n",
        "    out = sess.run([c,grad_x,grad_y,grad_z],feed_dict = values)\n",
        "    c_val, grad_x_val, grad_y_val, grad_z_val = out\n",
        "\n",
        "print(grad_x_val)\n",
        "print(grad_y_val)\n",
        "print(grad_z_val)\n",
        "print(datetime.now()-start)"
      ],
      "execution_count": null,
      "outputs": [
        {
          "output_type": "stream",
          "text": [
            "[[-1.6138978  -0.21274029 -0.89546657  0.38690251]\n",
            " [-0.51080513 -1.18063223 -0.02818223  0.42833188]\n",
            " [ 0.06651722  0.30247191 -0.63432211 -0.36274117]]\n",
            "[[ 1.23029065  1.20237982 -0.38732681 -0.30230275]\n",
            " [-1.04855299 -1.42001796 -1.70627022  1.95077538]\n",
            " [-0.5096522  -0.43807429 -1.25279534  0.77749038]]\n",
            "[[ 1.  1.  1.  1.]\n",
            " [ 1.  1.  1.  1.]\n",
            " [ 1.  1.  1.  1.]]\n",
            "0:00:00.045955\n"
          ],
          "name": "stdout"
        }
      ]
    },
    {
      "cell_type": "code",
      "metadata": {
        "id": "Dp6KTjwU9m4d",
        "outputId": "2346014c-0773-426a-faa0-0adc9de78f38"
      },
      "source": [
        "import torch\n",
        "from torch.autograd import Variable\n",
        "from datetime import datetime\n",
        "start = datetime.now()\n",
        "\n",
        "N,D = 3,4\n",
        "\n",
        "x = Variable(torch.randn(N,D).cuda(),requires_grad=True)\n",
        "y = Variable(torch.randn(N,D).cuda(),requires_grad=True)\n",
        "z = Variable(torch.randn(N,D).cuda(),requires_grad=True)\n",
        "\n",
        "a = x * y\n",
        "b = a + z\n",
        "c = torch.sum(b)\n",
        "\n",
        "c.backward(gradient=torch.cuda.FloatTensor([1.0]))\n",
        "\n",
        "print(x.grad)\n",
        "print(y.grad)\n",
        "print(z.grad)\n",
        "print(datetime.now()-start)"
      ],
      "execution_count": null,
      "outputs": [
        {
          "output_type": "stream",
          "text": [
            "Variable containing:\n",
            " 1.1577 -1.2792 -0.0138 -0.7830\n",
            "-0.0819  1.0152 -0.3593 -0.3371\n",
            " 0.2737 -1.0427  0.1550  2.5901\n",
            "[torch.cuda.FloatTensor of size 3x4 (GPU 0)]\n",
            "\n",
            "Variable containing:\n",
            " 0.8626  0.7682  0.4195 -0.4024\n",
            "-0.9882 -1.3758 -1.8754  0.5969\n",
            " 0.6585  0.0706 -0.1586  0.0468\n",
            "[torch.cuda.FloatTensor of size 3x4 (GPU 0)]\n",
            "\n",
            "Variable containing:\n",
            " 1  1  1  1\n",
            " 1  1  1  1\n",
            " 1  1  1  1\n",
            "[torch.cuda.FloatTensor of size 3x4 (GPU 0)]\n",
            "\n",
            "0:00:00.007252\n"
          ],
          "name": "stdout"
        }
      ]
    }
  ]
}