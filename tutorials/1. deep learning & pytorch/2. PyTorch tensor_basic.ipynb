{
  "nbformat": 4,
  "nbformat_minor": 0,
  "metadata": {
    "kernelspec": {
      "display_name": "Python 3",
      "language": "python",
      "name": "python3"
    },
    "language_info": {
      "codemirror_mode": {
        "name": "ipython",
        "version": 3
      },
      "file_extension": ".py",
      "mimetype": "text/x-python",
      "name": "python",
      "nbconvert_exporter": "python",
      "pygments_lexer": "ipython3",
      "version": "3.6.2"
    },
    "colab": {
      "name": "2_pytorch_tensor_basic.ipynb",
      "provenance": []
    }
  },
  "cells": [
    {
      "cell_type": "markdown",
      "metadata": {
        "id": "PaobcQai-c3n"
      },
      "source": [
        "# PyTorch Tensor Basic Usage\n",
        "\n",
        "- Create Tensor\n",
        "- Indexing,Joining,Slicing\n",
        "- Initialization\n",
        "- Math Operations"
      ]
    },
    {
      "cell_type": "markdown",
      "metadata": {
        "id": "RzgPR5YS-c3t"
      },
      "source": [
        "## 1. Create Tensor\n",
        "### 1) random numbers"
      ]
    },
    {
      "cell_type": "code",
      "metadata": {
        "colab": {
          "base_uri": "https://localhost:8080/"
        },
        "id": "fbj-MH8D-c3t",
        "outputId": "8e47cd1e-3f64-45c1-bdef-64767e5cd175"
      },
      "source": [
        "import torch\n",
        "\n",
        "# torch.rand(sizes) -> [0,1)\n",
        "# random numbers in range of [0,1)\n",
        "x = torch.rand(2,3)\n",
        "x\n"
      ],
      "execution_count": 6,
      "outputs": [
        {
          "output_type": "execute_result",
          "data": {
            "text/plain": [
              "tensor([[0.0598, 0.0669, 0.9946],\n",
              "        [0.3677, 0.1905, 0.8294]])"
            ]
          },
          "metadata": {
            "tags": []
          },
          "execution_count": 6
        }
      ]
    },
    {
      "cell_type": "code",
      "metadata": {
        "colab": {
          "base_uri": "https://localhost:8080/"
        },
        "id": "3lWPnigr-c3v",
        "outputId": "595df60c-de6a-4ede-e147-e9f61ce7b2e9"
      },
      "source": [
        "# torch.randn(sizes) -> Z(0,1)\n",
        "x = torch.randn(2,3)\n",
        "x"
      ],
      "execution_count": 7,
      "outputs": [
        {
          "output_type": "execute_result",
          "data": {
            "text/plain": [
              "tensor([[ 0.5628, -1.5796,  0.0362],\n",
              "        [ 0.7211,  0.5880,  1.2392]])"
            ]
          },
          "metadata": {
            "tags": []
          },
          "execution_count": 7
        }
      ]
    },
    {
      "cell_type": "code",
      "metadata": {
        "colab": {
          "base_uri": "https://localhost:8080/"
        },
        "id": "wn37pq0K-c3v",
        "outputId": "bae47ac9-553a-4e27-eb55-037543ece24c"
      },
      "source": [
        "# torch.randperm(n) -> permutation of 0~n\n",
        "x = torch.randperm(5)\n",
        "x"
      ],
      "execution_count": 8,
      "outputs": [
        {
          "output_type": "execute_result",
          "data": {
            "text/plain": [
              "tensor([2, 3, 4, 0, 1])"
            ]
          },
          "metadata": {
            "tags": []
          },
          "execution_count": 8
        }
      ]
    },
    {
      "cell_type": "markdown",
      "metadata": {
        "id": "tW3wnA5w-c3w"
      },
      "source": [
        "### 2) zeros, ones, arange"
      ]
    },
    {
      "cell_type": "code",
      "metadata": {
        "colab": {
          "base_uri": "https://localhost:8080/"
        },
        "id": "9LLOL0c0-c3w",
        "outputId": "7bf6e270-b0fd-40e6-d09f-eef0b6b357ab"
      },
      "source": [
        "# torch.zeros(2,3) -> [[0,0,0],[0,0,0]]\n",
        "x = torch.zeros(2,3)\n",
        "x"
      ],
      "execution_count": 9,
      "outputs": [
        {
          "output_type": "execute_result",
          "data": {
            "text/plain": [
              "tensor([[0., 0., 0.],\n",
              "        [0., 0., 0.]])"
            ]
          },
          "metadata": {
            "tags": []
          },
          "execution_count": 9
        }
      ]
    },
    {
      "cell_type": "code",
      "metadata": {
        "colab": {
          "base_uri": "https://localhost:8080/"
        },
        "id": "xm4qNbLR-c3w",
        "outputId": "f76740e3-1708-4c73-c6be-42b85d4332fe"
      },
      "source": [
        "# torch.ones(2,3) -> [[0,0,0],[0,0,0]]\n",
        "x = torch.ones(2,3)\n",
        "x"
      ],
      "execution_count": 10,
      "outputs": [
        {
          "output_type": "execute_result",
          "data": {
            "text/plain": [
              "tensor([[1., 1., 1.],\n",
              "        [1., 1., 1.]])"
            ]
          },
          "metadata": {
            "tags": []
          },
          "execution_count": 10
        }
      ]
    },
    {
      "cell_type": "code",
      "metadata": {
        "colab": {
          "base_uri": "https://localhost:8080/"
        },
        "id": "8gY5sK3j-c3x",
        "outputId": "649dcefd-9b09-493e-f499-47b3ac8556bf"
      },
      "source": [
        "# torch.arange(start,end,step=1) -> [start,end) with step\n",
        "x = torch.arange(0,3,step=0.5)\n",
        "x"
      ],
      "execution_count": 11,
      "outputs": [
        {
          "output_type": "execute_result",
          "data": {
            "text/plain": [
              "tensor([0.0000, 0.5000, 1.0000, 1.5000, 2.0000, 2.5000])"
            ]
          },
          "metadata": {
            "tags": []
          },
          "execution_count": 11
        }
      ]
    },
    {
      "cell_type": "markdown",
      "metadata": {
        "id": "OknGGkk--c3x"
      },
      "source": [
        "### 3) Tensor Data Type"
      ]
    },
    {
      "cell_type": "code",
      "metadata": {
        "colab": {
          "base_uri": "https://localhost:8080/"
        },
        "id": "3KqNKU66-c3x",
        "outputId": "a4f304a2-95ee-443d-9f51-a6ff86999908"
      },
      "source": [
        "# torch.FloatTensor(size or list)\n",
        "x = torch.FloatTensor(2,3)\n",
        "x"
      ],
      "execution_count": 12,
      "outputs": [
        {
          "output_type": "execute_result",
          "data": {
            "text/plain": [
              "tensor([[4.4943e-35, 0.0000e+00, 3.7835e-44],\n",
              "        [0.0000e+00,        nan, 0.0000e+00]])"
            ]
          },
          "metadata": {
            "tags": []
          },
          "execution_count": 12
        }
      ]
    },
    {
      "cell_type": "code",
      "metadata": {
        "colab": {
          "base_uri": "https://localhost:8080/"
        },
        "id": "HUS9yHMr-c3y",
        "outputId": "9036424b-635a-4132-d6c4-12fb7ba29a08"
      },
      "source": [
        "# torch.FloatTensor(size or list)\n",
        "x = torch.FloatTensor([2,3])\n",
        "x"
      ],
      "execution_count": 13,
      "outputs": [
        {
          "output_type": "execute_result",
          "data": {
            "text/plain": [
              "tensor([2., 3.])"
            ]
          },
          "metadata": {
            "tags": []
          },
          "execution_count": 13
        }
      ]
    },
    {
      "cell_type": "code",
      "metadata": {
        "colab": {
          "base_uri": "https://localhost:8080/"
        },
        "id": "Zmb3R-MS-c3y",
        "outputId": "57a9b701-86b4-4e84-e2ca-903f964b87ab"
      },
      "source": [
        "# tensor.type_as(tensor_type)\n",
        "x = x.type_as(torch.IntTensor())\n",
        "x"
      ],
      "execution_count": 14,
      "outputs": [
        {
          "output_type": "execute_result",
          "data": {
            "text/plain": [
              "tensor([2, 3], dtype=torch.int32)"
            ]
          },
          "metadata": {
            "tags": []
          },
          "execution_count": 14
        }
      ]
    },
    {
      "cell_type": "markdown",
      "metadata": {
        "id": "6UasRf8m-c3y"
      },
      "source": [
        "### 4) Numpy to Tensor, Tensor to Numpy"
      ]
    },
    {
      "cell_type": "code",
      "metadata": {
        "colab": {
          "base_uri": "https://localhost:8080/"
        },
        "id": "xChGV12E-c3y",
        "outputId": "2462cddf-c6bf-439c-d36d-f9a92edb1f83"
      },
      "source": [
        "import numpy as np\n",
        "\n",
        "# torch.from_numpy(ndarray) -> tensor\n",
        "\n",
        "x1 = np.ndarray(shape=(2,3), dtype=int,buffer=np.array([1,2,3,4,5,6]))\n",
        "x2 = torch.from_numpy(x1)\n",
        "\n",
        "x2"
      ],
      "execution_count": 15,
      "outputs": [
        {
          "output_type": "execute_result",
          "data": {
            "text/plain": [
              "tensor([[1, 2, 3],\n",
              "        [4, 5, 6]])"
            ]
          },
          "metadata": {
            "tags": []
          },
          "execution_count": 15
        }
      ]
    },
    {
      "cell_type": "code",
      "metadata": {
        "colab": {
          "base_uri": "https://localhost:8080/"
        },
        "id": "MdIlMW07-c3z",
        "outputId": "61414cdb-a473-4023-d0ae-0f6f5006bb88"
      },
      "source": [
        "# tensor.numpy() -> ndarray\n",
        "x3 = x2.numpy()\n",
        "x3"
      ],
      "execution_count": 16,
      "outputs": [
        {
          "output_type": "execute_result",
          "data": {
            "text/plain": [
              "array([[1, 2, 3],\n",
              "       [4, 5, 6]])"
            ]
          },
          "metadata": {
            "tags": []
          },
          "execution_count": 16
        }
      ]
    },
    {
      "cell_type": "markdown",
      "metadata": {
        "id": "DdYpLktZ-c3z"
      },
      "source": [
        "### 5) Tensor on CPU & GPU"
      ]
    },
    {
      "cell_type": "code",
      "metadata": {
        "colab": {
          "base_uri": "https://localhost:8080/"
        },
        "id": "OSKbuuot-c3z",
        "outputId": "d02b75d0-e06e-4e38-89f8-b623516d830a"
      },
      "source": [
        "x = torch.FloatTensor([[1,2,3],[4,5,6]])\n",
        "x"
      ],
      "execution_count": 17,
      "outputs": [
        {
          "output_type": "execute_result",
          "data": {
            "text/plain": [
              "tensor([[1., 2., 3.],\n",
              "        [4., 5., 6.]])"
            ]
          },
          "metadata": {
            "tags": []
          },
          "execution_count": 17
        }
      ]
    },
    {
      "cell_type": "code",
      "metadata": {
        "colab": {
          "base_uri": "https://localhost:8080/"
        },
        "id": "58TJt32x-c3z",
        "outputId": "1f892279-cfc0-4d27-ab65-f40af0da8fcf"
      },
      "source": [
        "x_gpu = x.cuda()\n",
        "x_gpu"
      ],
      "execution_count": 18,
      "outputs": [
        {
          "output_type": "execute_result",
          "data": {
            "text/plain": [
              "tensor([[1., 2., 3.],\n",
              "        [4., 5., 6.]], device='cuda:0')"
            ]
          },
          "metadata": {
            "tags": []
          },
          "execution_count": 18
        }
      ]
    },
    {
      "cell_type": "code",
      "metadata": {
        "colab": {
          "base_uri": "https://localhost:8080/"
        },
        "id": "jUGfnLYo-c30",
        "outputId": "5368cbaf-c27a-4e45-df56-3ce3076af668"
      },
      "source": [
        "x_cpu = x_gpu.cpu()\n",
        "x_cpu"
      ],
      "execution_count": 19,
      "outputs": [
        {
          "output_type": "execute_result",
          "data": {
            "text/plain": [
              "tensor([[1., 2., 3.],\n",
              "        [4., 5., 6.]])"
            ]
          },
          "metadata": {
            "tags": []
          },
          "execution_count": 19
        }
      ]
    },
    {
      "cell_type": "markdown",
      "metadata": {
        "id": "cYKTitZn-c30"
      },
      "source": [
        "### 6) Tensor Size"
      ]
    },
    {
      "cell_type": "code",
      "metadata": {
        "colab": {
          "base_uri": "https://localhost:8080/"
        },
        "id": "liFtuFiP-c30",
        "outputId": "13e9993f-612b-40b5-fb08-79f5f26c9aee"
      },
      "source": [
        "# tensor.size() -> indexing also possible\n",
        "\n",
        "x = torch.FloatTensor(10,12,3,3)\n",
        "\n",
        "x.size()[:]"
      ],
      "execution_count": 20,
      "outputs": [
        {
          "output_type": "execute_result",
          "data": {
            "text/plain": [
              "torch.Size([10, 12, 3, 3])"
            ]
          },
          "metadata": {
            "tags": []
          },
          "execution_count": 20
        }
      ]
    },
    {
      "cell_type": "markdown",
      "metadata": {
        "id": "tX7jYZ4l-c30"
      },
      "source": [
        "## 2. Indexing, Slicing, Joining\n",
        "### 1) Indexing"
      ]
    },
    {
      "cell_type": "code",
      "metadata": {
        "colab": {
          "base_uri": "https://localhost:8080/"
        },
        "id": "BT7jymah-c30",
        "outputId": "f38bee92-56a3-4d15-b0cf-1bc01a744752"
      },
      "source": [
        "# torch.index_select(input, dim, index)\n",
        "\n",
        "x = torch.rand(4,3)\n",
        "out = torch.index_select(x,0,torch.LongTensor([0,3]))\n",
        "\n",
        "x,out"
      ],
      "execution_count": 21,
      "outputs": [
        {
          "output_type": "execute_result",
          "data": {
            "text/plain": [
              "(tensor([[0.4197, 0.5117, 0.4280],\n",
              "         [0.1608, 0.6812, 0.9271],\n",
              "         [0.2434, 0.4988, 0.8126],\n",
              "         [0.9935, 0.7683, 0.9187]]), tensor([[0.4197, 0.5117, 0.4280],\n",
              "         [0.9935, 0.7683, 0.9187]]))"
            ]
          },
          "metadata": {
            "tags": []
          },
          "execution_count": 21
        }
      ]
    },
    {
      "cell_type": "code",
      "metadata": {
        "colab": {
          "base_uri": "https://localhost:8080/"
        },
        "id": "rhl0u-pq-c31",
        "outputId": "46273531-a86c-4a66-dcd9-d2f5e4d207f8"
      },
      "source": [
        "# pythonic indexing also works\n",
        "\n",
        "x[:,0],x[0,:],x[0:2,0:2]"
      ],
      "execution_count": 22,
      "outputs": [
        {
          "output_type": "execute_result",
          "data": {
            "text/plain": [
              "(tensor([0.4197, 0.1608, 0.2434, 0.9935]),\n",
              " tensor([0.4197, 0.5117, 0.4280]),\n",
              " tensor([[0.4197, 0.5117],\n",
              "         [0.1608, 0.6812]]))"
            ]
          },
          "metadata": {
            "tags": []
          },
          "execution_count": 22
        }
      ]
    },
    {
      "cell_type": "code",
      "metadata": {
        "colab": {
          "base_uri": "https://localhost:8080/"
        },
        "id": "P_Y7p_ab-c31",
        "outputId": "c2763843-8ec5-492c-dadb-27a284a3996a"
      },
      "source": [
        "# torch.masked_select(input, mask)\n",
        "\n",
        "x = torch.randn(2,3)\n",
        "mask = torch.ByteTensor([[0,0,1],[0,1,0]])\n",
        "out = torch.masked_select(x,mask)\n",
        "\n",
        "x, mask, out"
      ],
      "execution_count": 23,
      "outputs": [
        {
          "output_type": "stream",
          "text": [
            "/usr/local/lib/python3.6/dist-packages/ipykernel_launcher.py:5: UserWarning: masked_select received a mask with dtype torch.uint8, this behavior is now deprecated,please use a mask with dtype torch.bool instead. (Triggered internally at  /pytorch/aten/src/ATen/native/TensorAdvancedIndexing.cpp:733.)\n",
            "  \"\"\"\n"
          ],
          "name": "stderr"
        },
        {
          "output_type": "execute_result",
          "data": {
            "text/plain": [
              "(tensor([[1.1541, 0.0405, 0.3002],\n",
              "         [0.2280, 0.0404, 0.3727]]), tensor([[0, 0, 1],\n",
              "         [0, 1, 0]], dtype=torch.uint8), tensor([0.3002, 0.0404]))"
            ]
          },
          "metadata": {
            "tags": []
          },
          "execution_count": 23
        }
      ]
    },
    {
      "cell_type": "markdown",
      "metadata": {
        "id": "JjFZnKBl-c31"
      },
      "source": [
        "### 2) Joining"
      ]
    },
    {
      "cell_type": "code",
      "metadata": {
        "colab": {
          "base_uri": "https://localhost:8080/"
        },
        "id": "P-isMRmK-c31",
        "outputId": "d9552873-f813-41d6-9905-1cdc45faeac5"
      },
      "source": [
        "# torch.cat(seq, dim=0) -> concatenate tensor along dim\n",
        "\n",
        "x = torch.FloatTensor([[1,2,3],[4,5,6]])\n",
        "y = torch.FloatTensor([[-1,-2,-3],[-4,-5,-6]])\n",
        "z1 = torch.cat([x,y],dim=0)\n",
        "z2 = torch.cat([x,y],dim=1)\n",
        "\n",
        "x,y,z1,z2"
      ],
      "execution_count": 24,
      "outputs": [
        {
          "output_type": "execute_result",
          "data": {
            "text/plain": [
              "(tensor([[1., 2., 3.],\n",
              "         [4., 5., 6.]]), tensor([[-1., -2., -3.],\n",
              "         [-4., -5., -6.]]), tensor([[ 1.,  2.,  3.],\n",
              "         [ 4.,  5.,  6.],\n",
              "         [-1., -2., -3.],\n",
              "         [-4., -5., -6.]]), tensor([[ 1.,  2.,  3., -1., -2., -3.],\n",
              "         [ 4.,  5.,  6., -4., -5., -6.]]))"
            ]
          },
          "metadata": {
            "tags": []
          },
          "execution_count": 24
        }
      ]
    },
    {
      "cell_type": "code",
      "metadata": {
        "colab": {
          "base_uri": "https://localhost:8080/"
        },
        "id": "aQbqvY0r-c31",
        "outputId": "d1662f7b-67d0-4f28-9891-6c765c7406b4"
      },
      "source": [
        "# torch.stack(sequence,dim=0) -> stack along new dim\n",
        "\n",
        "x = torch.FloatTensor([[1,2,3],[4,5,6]])\n",
        "x_stack = torch.stack([x,x,x,x],dim=0)\n",
        "\n",
        "x_stack"
      ],
      "execution_count": 25,
      "outputs": [
        {
          "output_type": "execute_result",
          "data": {
            "text/plain": [
              "tensor([[[1., 2., 3.],\n",
              "         [4., 5., 6.]],\n",
              "\n",
              "        [[1., 2., 3.],\n",
              "         [4., 5., 6.]],\n",
              "\n",
              "        [[1., 2., 3.],\n",
              "         [4., 5., 6.]],\n",
              "\n",
              "        [[1., 2., 3.],\n",
              "         [4., 5., 6.]]])"
            ]
          },
          "metadata": {
            "tags": []
          },
          "execution_count": 25
        }
      ]
    },
    {
      "cell_type": "markdown",
      "metadata": {
        "id": "92enN1kZ-c32"
      },
      "source": [
        "### 3) Slicing"
      ]
    },
    {
      "cell_type": "code",
      "metadata": {
        "colab": {
          "base_uri": "https://localhost:8080/"
        },
        "id": "2poittU3-c32",
        "outputId": "6b3950e5-d91d-4477-c1a8-1056009810a1"
      },
      "source": [
        "# torch.chunk(tensor, chunks, dim=0) -> tensor into num chunks\n",
        "\n",
        "x_1, x_2 = torch.chunk(z1,2,dim=0)\n",
        "y_1, y_2, y_3 = torch.chunk(z1,3,dim=1)\n",
        "\n",
        "z1,x_1,x_2,z1,y_1,y_2,y_3"
      ],
      "execution_count": 26,
      "outputs": [
        {
          "output_type": "execute_result",
          "data": {
            "text/plain": [
              "(tensor([[ 1.,  2.,  3.],\n",
              "         [ 4.,  5.,  6.],\n",
              "         [-1., -2., -3.],\n",
              "         [-4., -5., -6.]]), tensor([[1., 2., 3.],\n",
              "         [4., 5., 6.]]), tensor([[-1., -2., -3.],\n",
              "         [-4., -5., -6.]]), tensor([[ 1.,  2.,  3.],\n",
              "         [ 4.,  5.,  6.],\n",
              "         [-1., -2., -3.],\n",
              "         [-4., -5., -6.]]), tensor([[ 1.],\n",
              "         [ 4.],\n",
              "         [-1.],\n",
              "         [-4.]]), tensor([[ 2.],\n",
              "         [ 5.],\n",
              "         [-2.],\n",
              "         [-5.]]), tensor([[ 3.],\n",
              "         [ 6.],\n",
              "         [-3.],\n",
              "         [-6.]]))"
            ]
          },
          "metadata": {
            "tags": []
          },
          "execution_count": 26
        }
      ]
    },
    {
      "cell_type": "code",
      "metadata": {
        "colab": {
          "base_uri": "https://localhost:8080/"
        },
        "id": "wtTv6Z4T-c32",
        "outputId": "9f7e3386-0319-4d02-ad13-abc5678e571c"
      },
      "source": [
        "# torch.split(tensor,split_size,dim=0) -> split into specific size\n",
        "\n",
        "x1,x2 = torch.split(z1,2,dim=0)\n",
        "y1 = torch.split(z1,2,dim=1) \n",
        "\n",
        "z1,x1,x2,y1"
      ],
      "execution_count": 27,
      "outputs": [
        {
          "output_type": "execute_result",
          "data": {
            "text/plain": [
              "(tensor([[ 1.,  2.,  3.],\n",
              "         [ 4.,  5.,  6.],\n",
              "         [-1., -2., -3.],\n",
              "         [-4., -5., -6.]]), tensor([[1., 2., 3.],\n",
              "         [4., 5., 6.]]), tensor([[-1., -2., -3.],\n",
              "         [-4., -5., -6.]]), (tensor([[ 1.,  2.],\n",
              "          [ 4.,  5.],\n",
              "          [-1., -2.],\n",
              "          [-4., -5.]]), tensor([[ 3.],\n",
              "          [ 6.],\n",
              "          [-3.],\n",
              "          [-6.]])))"
            ]
          },
          "metadata": {
            "tags": []
          },
          "execution_count": 27
        }
      ]
    },
    {
      "cell_type": "markdown",
      "metadata": {
        "id": "hk7Rjx_g-c32"
      },
      "source": [
        "### 4) squeezing"
      ]
    },
    {
      "cell_type": "code",
      "metadata": {
        "colab": {
          "base_uri": "https://localhost:8080/"
        },
        "id": "cRe7gFJK-c32",
        "outputId": "ef9a2d1a-5bcf-4500-aae8-e10c0c645ffc"
      },
      "source": [
        "# torch.squeeze(input,dim=None) -> reduce dim by 1\n",
        "\n",
        "x1 = torch.FloatTensor(10,1,3,1,4)\n",
        "x2 = torch.squeeze(x1)\n",
        "\n",
        "x1.size(),x2.size()"
      ],
      "execution_count": 28,
      "outputs": [
        {
          "output_type": "execute_result",
          "data": {
            "text/plain": [
              "(torch.Size([10, 1, 3, 1, 4]), torch.Size([10, 3, 4]))"
            ]
          },
          "metadata": {
            "tags": []
          },
          "execution_count": 28
        }
      ]
    },
    {
      "cell_type": "code",
      "metadata": {
        "colab": {
          "base_uri": "https://localhost:8080/"
        },
        "id": "EOHbfwMf-c33",
        "outputId": "aa85e7b2-1644-4639-815a-aa1a2d6ac213"
      },
      "source": [
        "# torch.unsqueeze(input,dim=None) -> add dim by 1\n",
        "\n",
        "x1 = torch.FloatTensor(10,3,4)\n",
        "x2 = torch.unsqueeze(x1,dim=0)\n",
        "\n",
        "x1.size(),x2.size()"
      ],
      "execution_count": 29,
      "outputs": [
        {
          "output_type": "execute_result",
          "data": {
            "text/plain": [
              "(torch.Size([10, 3, 4]), torch.Size([1, 10, 3, 4]))"
            ]
          },
          "metadata": {
            "tags": []
          },
          "execution_count": 29
        }
      ]
    },
    {
      "cell_type": "markdown",
      "metadata": {
        "id": "v1mVtJOq-c33"
      },
      "source": [
        "## 3. Initialization"
      ]
    },
    {
      "cell_type": "code",
      "metadata": {
        "colab": {
          "base_uri": "https://localhost:8080/"
        },
        "id": "AYacs-y5-c36",
        "outputId": "fe5a4000-2583-4cca-d0a9-d8b8a99243c9"
      },
      "source": [
        "import torch.nn.init as init\n",
        "\n",
        "x1 = init.uniform(torch.FloatTensor(3,4),a=0,b=9) \n",
        "x2 = init.normal(torch.FloatTensor(3,4),std=0.2)\n",
        "x3 = init.constant(torch.FloatTensor(3,4),3.1415)\n",
        "\n",
        "x1,x2,x3"
      ],
      "execution_count": 30,
      "outputs": [
        {
          "output_type": "stream",
          "text": [
            "/usr/local/lib/python3.6/dist-packages/ipykernel_launcher.py:3: UserWarning: nn.init.uniform is now deprecated in favor of nn.init.uniform_.\n",
            "  This is separate from the ipykernel package so we can avoid doing imports until\n",
            "/usr/local/lib/python3.6/dist-packages/ipykernel_launcher.py:4: UserWarning: nn.init.normal is now deprecated in favor of nn.init.normal_.\n",
            "  after removing the cwd from sys.path.\n",
            "/usr/local/lib/python3.6/dist-packages/ipykernel_launcher.py:5: UserWarning: nn.init.constant is now deprecated in favor of nn.init.constant_.\n",
            "  \"\"\"\n"
          ],
          "name": "stderr"
        },
        {
          "output_type": "execute_result",
          "data": {
            "text/plain": [
              "(tensor([[4.0125, 8.8952, 6.7750, 8.5945],\n",
              "         [2.4596, 5.0762, 4.2346, 3.1616],\n",
              "         [4.1040, 0.4441, 4.5366, 3.8075]]),\n",
              " tensor([[-0.1654, -0.0129,  0.3633, -0.0522],\n",
              "         [ 0.1091, -0.4718,  0.1822, -0.0213],\n",
              "         [ 0.1150, -0.3221,  0.3217,  0.1411]]),\n",
              " tensor([[3.1415, 3.1415, 3.1415, 3.1415],\n",
              "         [3.1415, 3.1415, 3.1415, 3.1415],\n",
              "         [3.1415, 3.1415, 3.1415, 3.1415]]))"
            ]
          },
          "metadata": {
            "tags": []
          },
          "execution_count": 30
        }
      ]
    },
    {
      "cell_type": "markdown",
      "metadata": {
        "id": "G2CgoXFE-c36"
      },
      "source": [
        "## 4. Math Operations\n",
        "### 1) Arithmetic operations"
      ]
    },
    {
      "cell_type": "code",
      "metadata": {
        "colab": {
          "base_uri": "https://localhost:8080/"
        },
        "id": "h1gr36Av-c36",
        "outputId": "0c655160-d16c-43e9-bb18-0e55845ab030"
      },
      "source": [
        "# torch.add()\n",
        "\n",
        "x1 = torch.FloatTensor([[1,2,3],[4,5,6]])\n",
        "x2 = torch.FloatTensor([[1,2,3],[4,5,6]])\n",
        "add = torch.add(x1,x2)\n",
        "\n",
        "x1,x2,add,x1+x2,x1-x2"
      ],
      "execution_count": 31,
      "outputs": [
        {
          "output_type": "execute_result",
          "data": {
            "text/plain": [
              "(tensor([[1., 2., 3.],\n",
              "         [4., 5., 6.]]), tensor([[1., 2., 3.],\n",
              "         [4., 5., 6.]]), tensor([[ 2.,  4.,  6.],\n",
              "         [ 8., 10., 12.]]), tensor([[ 2.,  4.,  6.],\n",
              "         [ 8., 10., 12.]]), tensor([[0., 0., 0.],\n",
              "         [0., 0., 0.]]))"
            ]
          },
          "metadata": {
            "tags": []
          },
          "execution_count": 31
        }
      ]
    },
    {
      "cell_type": "code",
      "metadata": {
        "colab": {
          "base_uri": "https://localhost:8080/"
        },
        "id": "ggQWTKaG-c37",
        "outputId": "1261690a-3905-4d2b-89ef-f04a4d0a425c"
      },
      "source": [
        "# torch.add() broadcasting\n",
        "\n",
        "x1 = torch.FloatTensor([[1,2,3],[4,5,6]])\n",
        "x2 = torch.add(x1,10)\n",
        "\n",
        "x1,x2,x1+10,x2-10"
      ],
      "execution_count": 32,
      "outputs": [
        {
          "output_type": "execute_result",
          "data": {
            "text/plain": [
              "(tensor([[1., 2., 3.],\n",
              "         [4., 5., 6.]]), tensor([[11., 12., 13.],\n",
              "         [14., 15., 16.]]), tensor([[11., 12., 13.],\n",
              "         [14., 15., 16.]]), tensor([[1., 2., 3.],\n",
              "         [4., 5., 6.]]))"
            ]
          },
          "metadata": {
            "tags": []
          },
          "execution_count": 32
        }
      ]
    },
    {
      "cell_type": "code",
      "metadata": {
        "colab": {
          "base_uri": "https://localhost:8080/"
        },
        "id": "ef9Xjyv6-c37",
        "outputId": "022097ba-d8ed-4abb-d005-83d2a29e0a9a"
      },
      "source": [
        "# torch.mul() -> size better match\n",
        "\n",
        "x1 = torch.FloatTensor([[1,2,3],[4,5,6]])\n",
        "x2 = torch.FloatTensor([[1,2,3],[4,5,6]])\n",
        "x3 = torch.mul(x1,x2)\n",
        "\n",
        "x3"
      ],
      "execution_count": 33,
      "outputs": [
        {
          "output_type": "execute_result",
          "data": {
            "text/plain": [
              "tensor([[ 1.,  4.,  9.],\n",
              "        [16., 25., 36.]])"
            ]
          },
          "metadata": {
            "tags": []
          },
          "execution_count": 33
        }
      ]
    },
    {
      "cell_type": "code",
      "metadata": {
        "colab": {
          "base_uri": "https://localhost:8080/"
        },
        "id": "8fucpKXj-c38",
        "outputId": "ea2cfd93-4768-4684-883f-24928a70d8d0"
      },
      "source": [
        "# torch.mul() -> broadcasting\n",
        "\n",
        "x1 = torch.FloatTensor([[1,2,3],[4,5,6]])\n",
        "x2 = x1*10\n",
        "\n",
        "x2"
      ],
      "execution_count": 34,
      "outputs": [
        {
          "output_type": "execute_result",
          "data": {
            "text/plain": [
              "tensor([[10., 20., 30.],\n",
              "        [40., 50., 60.]])"
            ]
          },
          "metadata": {
            "tags": []
          },
          "execution_count": 34
        }
      ]
    },
    {
      "cell_type": "code",
      "metadata": {
        "colab": {
          "base_uri": "https://localhost:8080/"
        },
        "id": "Od8ODNrR-c38",
        "outputId": "ae41929d-b423-4829-cd94-73d1214e6787"
      },
      "source": [
        "# torch.div() -> size better match\n",
        "\n",
        "x1 = torch.FloatTensor([[1,2,3],[4,5,6]])\n",
        "x2 = torch.FloatTensor([[1,2,3],[4,5,6]])\n",
        "x3 = torch.div(x1,x2)\n",
        "\n",
        "x3"
      ],
      "execution_count": 35,
      "outputs": [
        {
          "output_type": "execute_result",
          "data": {
            "text/plain": [
              "tensor([[1., 1., 1.],\n",
              "        [1., 1., 1.]])"
            ]
          },
          "metadata": {
            "tags": []
          },
          "execution_count": 35
        }
      ]
    },
    {
      "cell_type": "code",
      "metadata": {
        "colab": {
          "base_uri": "https://localhost:8080/"
        },
        "id": "w4ngRbMr-c39",
        "outputId": "13c36f67-c803-4973-e2f7-e9ddfba5790a"
      },
      "source": [
        "# torch.div() -> broadcasting\n",
        "\n",
        "x1 = torch.FloatTensor([[1,2,3],[4,5,6]])\n",
        "\n",
        "x1/5"
      ],
      "execution_count": 36,
      "outputs": [
        {
          "output_type": "execute_result",
          "data": {
            "text/plain": [
              "tensor([[0.2000, 0.4000, 0.6000],\n",
              "        [0.8000, 1.0000, 1.2000]])"
            ]
          },
          "metadata": {
            "tags": []
          },
          "execution_count": 36
        }
      ]
    },
    {
      "cell_type": "markdown",
      "metadata": {
        "id": "OZNEmKar-c3-"
      },
      "source": [
        "### 2) Other Math Operations"
      ]
    },
    {
      "cell_type": "code",
      "metadata": {
        "colab": {
          "base_uri": "https://localhost:8080/"
        },
        "id": "cCq6BCXv-c3-",
        "outputId": "09c84722-a55b-4ba6-b9b7-451fbb47e531"
      },
      "source": [
        "# torch.pow(input,exponent)\n",
        "\n",
        "x1 = torch.FloatTensor(3,4)\n",
        "torch.pow(x1,2),x1**2"
      ],
      "execution_count": 44,
      "outputs": [
        {
          "output_type": "execute_result",
          "data": {
            "text/plain": [
              "(tensor([[0.0786, 0.0000, 0.0000, 0.0000],\n",
              "         [   nan, 0.0000,    inf,    inf],\n",
              "         [   inf,    inf,    inf,    inf]]),\n",
              " tensor([[0.0786, 0.0000, 0.0000, 0.0000],\n",
              "         [   nan, 0.0000,    inf,    inf],\n",
              "         [   inf,    inf,    inf,    inf]]))"
            ]
          },
          "metadata": {
            "tags": []
          },
          "execution_count": 44
        }
      ]
    },
    {
      "cell_type": "code",
      "metadata": {
        "colab": {
          "base_uri": "https://localhost:8080/"
        },
        "id": "MJiJFdR9-c3-",
        "outputId": "76711415-50af-4103-9d47-be37de71c72f"
      },
      "source": [
        "# torch.exp(tensor,out=None) \n",
        "\n",
        "x1 = torch.FloatTensor(3,4)\n",
        "torch.exp(x1)"
      ],
      "execution_count": 38,
      "outputs": [
        {
          "output_type": "execute_result",
          "data": {
            "text/plain": [
              "tensor([[ 0.7555,  1.0000,  1.0000,  2.2255],\n",
              "        [ 2.7183,  3.3201,  1.0000, 21.3809],\n",
              "        [ 1.0000, 23.1183,  1.0000, 24.9969]])"
            ]
          },
          "metadata": {
            "tags": []
          },
          "execution_count": 38
        }
      ]
    },
    {
      "cell_type": "code",
      "metadata": {
        "colab": {
          "base_uri": "https://localhost:8080/"
        },
        "id": "Ad5TkXSh-c3_",
        "outputId": "cb91c52d-e850-4371-a875-526a7f730bb5"
      },
      "source": [
        "# torch.log(input, out=None) -> natural logarithm\n",
        "\n",
        "x1 = torch.FloatTensor(3,4)\n",
        "torch.log(x1)"
      ],
      "execution_count": 39,
      "outputs": [
        {
          "output_type": "execute_result",
          "data": {
            "text/plain": [
              "tensor([[     nan,     -inf, -86.6356,     -inf],\n",
              "        [     nan,     -inf,      inf,      inf],\n",
              "        [     inf,      inf,      inf,  58.1320]])"
            ]
          },
          "metadata": {
            "tags": []
          },
          "execution_count": 39
        }
      ]
    },
    {
      "cell_type": "markdown",
      "metadata": {
        "id": "bLp7OBXr-c3_"
      },
      "source": [
        "### 3) Matrix operations"
      ]
    },
    {
      "cell_type": "code",
      "metadata": {
        "colab": {
          "base_uri": "https://localhost:8080/"
        },
        "id": "66gC17UQ-c4A",
        "outputId": "bc228dad-0dfb-4db1-e941-1108bc49e019"
      },
      "source": [
        "# torch.mm(mat1, mat2) -> matrix multiplication\n",
        "\n",
        "x1 = torch.FloatTensor(3,4)\n",
        "x2 = torch.FloatTensor(4,5)\n",
        "\n",
        "torch.mm(x1,x2)"
      ],
      "execution_count": 40,
      "outputs": [
        {
          "output_type": "execute_result",
          "data": {
            "text/plain": [
              "tensor([[ 1.3286e-01,  0.0000e+00, -1.9618e-44, -1.9618e-44, -1.8217e-44],\n",
              "        [        nan,         nan,         nan,         nan,         nan],\n",
              "        [-6.5454e+30,  1.3211e-12,  2.1813e-12,  2.2428e-12,  2.4073e-12]])"
            ]
          },
          "metadata": {
            "tags": []
          },
          "execution_count": 40
        }
      ]
    },
    {
      "cell_type": "code",
      "metadata": {
        "colab": {
          "base_uri": "https://localhost:8080/"
        },
        "id": "Jy8wLeXq-c4A",
        "outputId": "67f84b80-fa06-4473-c38a-ad457e9b9f3c"
      },
      "source": [
        "# torch.bmm(batch1, batch2) -> batch matrix multiplication\n",
        "\n",
        "x1 = torch.FloatTensor(10,3,4)\n",
        "x2 = torch.FloatTensor(10,4,5)\n",
        "\n",
        "torch.bmm(x1,x2).size()"
      ],
      "execution_count": 41,
      "outputs": [
        {
          "output_type": "execute_result",
          "data": {
            "text/plain": [
              "torch.Size([10, 3, 5])"
            ]
          },
          "metadata": {
            "tags": []
          },
          "execution_count": 41
        }
      ]
    },
    {
      "cell_type": "code",
      "metadata": {
        "colab": {
          "base_uri": "https://localhost:8080/"
        },
        "id": "dtd2hyGH-c4A",
        "outputId": "9f8427cd-fcff-49bd-ee0d-adfd8af9765c"
      },
      "source": [
        "# torch.dot(tensor1,tensor2) -> dot product of two tensor\n",
        "##x1 = torch.FloatTensor(3,4)x2 = torch.FloatTensor(3,4)\n",
        "\n",
        "x1 = torch.tensor([1,2,3,4])\n",
        "x2 = torch.tensor([2,3,4,5])\n",
        "x3 = torch.dot(x1,x2)\n",
        "\n",
        "print(x1)\n",
        "print(x2)\n",
        "print(x3)\n"
      ],
      "execution_count": 52,
      "outputs": [
        {
          "output_type": "stream",
          "text": [
            "tensor([1, 2, 3, 4])\n",
            "tensor([2, 3, 4, 5])\n",
            "tensor(40)\n"
          ],
          "name": "stdout"
        }
      ]
    },
    {
      "cell_type": "code",
      "metadata": {
        "colab": {
          "base_uri": "https://localhost:8080/"
        },
        "id": "6eyOwjne-c4B",
        "outputId": "061243d7-ae44-4338-f310-b9f1b296b575"
      },
      "source": [
        "# torch.t(matrix) -> transposed matrix\n",
        "\n",
        "x1 = torch.FloatTensor(3,4)\n",
        "\n",
        "x1,x1.t()"
      ],
      "execution_count": 43,
      "outputs": [
        {
          "output_type": "execute_result",
          "data": {
            "text/plain": [
              "(tensor([[-7.4729e+00,  0.0000e+00,  1.4396e-38,  0.0000e+00],\n",
              "         [ 3.2230e-44,  0.0000e+00,         nan,         nan],\n",
              "         [ 0.0000e+00,  0.0000e+00,  0.0000e+00,  0.0000e+00]]),\n",
              " tensor([[-7.4729e+00,  3.2230e-44,  0.0000e+00],\n",
              "         [ 0.0000e+00,  0.0000e+00,  0.0000e+00],\n",
              "         [ 1.4396e-38,         nan,  0.0000e+00],\n",
              "         [ 0.0000e+00,         nan,  0.0000e+00]]))"
            ]
          },
          "metadata": {
            "tags": []
          },
          "execution_count": 43
        }
      ]
    },
    {
      "cell_type": "code",
      "metadata": {
        "colab": {
          "base_uri": "https://localhost:8080/"
        },
        "id": "nNrDi4Yf-c4B",
        "outputId": "c1081f9f-0494-42b7-f07d-a18a553c07ed"
      },
      "source": [
        "# torch.transpose(input,dim0,dim1) -> transposed matrix\n",
        "\n",
        "x1 = torch.FloatTensor(10,3,4)\n",
        "\n",
        "x1.size(), torch.transpose(x1,1,2).size(), x1.transpose(1,2).size()"
      ],
      "execution_count": 53,
      "outputs": [
        {
          "output_type": "execute_result",
          "data": {
            "text/plain": [
              "(torch.Size([10, 3, 4]), torch.Size([10, 4, 3]), torch.Size([10, 4, 3]))"
            ]
          },
          "metadata": {
            "tags": []
          },
          "execution_count": 53
        }
      ]
    },
    {
      "cell_type": "code",
      "metadata": {
        "colab": {
          "base_uri": "https://localhost:8080/"
        },
        "id": "T4lB9-Cc-c4B",
        "outputId": "de7640a7-742b-4474-93f1-399fc3746429"
      },
      "source": [
        "# torch.eig(a,eigenvectors=False) -> eigen_value, eigen_vector\n",
        "\n",
        "x1 = torch.FloatTensor(4,4)\n",
        "x1\n",
        "\n",
        "a = torch.symeig(x1,True)\n",
        "a"
      ],
      "execution_count": 19,
      "outputs": [
        {
          "output_type": "execute_result",
          "data": {
            "text/plain": [
              "torch.return_types.symeig(eigenvalues=tensor([-4.4122e+29, -3.1383e+20,  0.0000e+00,  5.1187e+31]), eigenvectors=tensor([[ 0.0000e+00, -0.0000e+00,  1.0000e+00,  0.0000e+00],\n",
              "        [ 6.3075e-02,  9.9799e-01,  0.0000e+00,  5.8561e-03],\n",
              "        [ 9.9372e-01, -6.3346e-02,  0.0000e+00,  9.2260e-02],\n",
              "        [-9.2445e-02, -9.9334e-11,  0.0000e+00,  9.9572e-01]]))"
            ]
          },
          "metadata": {
            "tags": []
          },
          "execution_count": 19
        }
      ]
    }
  ]
}